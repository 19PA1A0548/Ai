{
  "nbformat": 4,
  "nbformat_minor": 0,
  "metadata": {
    "colab": {
      "name": "Decision Tree Classifier.ipynb",
      "provenance": [],
      "collapsed_sections": [],
      "authorship_tag": "ABX9TyMMB4OHXi1M7+24PJMBO+Rs",
      "include_colab_link": true
    },
    "kernelspec": {
      "name": "python3",
      "display_name": "Python 3"
    }
  },
  "cells": [
    {
      "cell_type": "markdown",
      "metadata": {
        "id": "view-in-github",
        "colab_type": "text"
      },
      "source": [
        "<a href=\"https://colab.research.google.com/github/19PA1A0548/Ai/blob/main/Decision_Tree_Classifier.ipynb\" target=\"_parent\"><img src=\"https://colab.research.google.com/assets/colab-badge.svg\" alt=\"Open In Colab\"/></a>"
      ]
    },
    {
      "cell_type": "code",
      "metadata": {
        "id": "3uszMTIoeMgM"
      },
      "source": [
        "import pandas as pd\n",
        "import numpy as np\n",
        "import matplotlib.pyplot as plt"
      ],
      "execution_count": 1,
      "outputs": []
    },
    {
      "cell_type": "code",
      "metadata": {
        "id": "RpVFY3_veUIg"
      },
      "source": [
        "from sklearn.model_selection import train_test_split\n",
        "from sklearn.tree import DecisionTreeClassifier\n",
        "from sklearn import metrics\n",
        "from sklearn import tree"
      ],
      "execution_count": 17,
      "outputs": []
    },
    {
      "cell_type": "code",
      "metadata": {
        "id": "JDFK3NTuetR1",
        "outputId": "9fe43084-91b8-4d84-c231-b3f249e6ee0b",
        "colab": {
          "base_uri": "https://localhost:8080/",
          "height": 204
        }
      },
      "source": [
        "df = pd.read_csv(\"/content/Social_Network_Ads.csv\")\n",
        "df.head()"
      ],
      "execution_count": 18,
      "outputs": [
        {
          "output_type": "execute_result",
          "data": {
            "text/html": [
              "<div>\n",
              "<style scoped>\n",
              "    .dataframe tbody tr th:only-of-type {\n",
              "        vertical-align: middle;\n",
              "    }\n",
              "\n",
              "    .dataframe tbody tr th {\n",
              "        vertical-align: top;\n",
              "    }\n",
              "\n",
              "    .dataframe thead th {\n",
              "        text-align: right;\n",
              "    }\n",
              "</style>\n",
              "<table border=\"1\" class=\"dataframe\">\n",
              "  <thead>\n",
              "    <tr style=\"text-align: right;\">\n",
              "      <th></th>\n",
              "      <th>User ID</th>\n",
              "      <th>Gender</th>\n",
              "      <th>Age</th>\n",
              "      <th>EstimatedSalary</th>\n",
              "      <th>Purchased</th>\n",
              "    </tr>\n",
              "  </thead>\n",
              "  <tbody>\n",
              "    <tr>\n",
              "      <th>0</th>\n",
              "      <td>15624510</td>\n",
              "      <td>Male</td>\n",
              "      <td>19</td>\n",
              "      <td>19000</td>\n",
              "      <td>0</td>\n",
              "    </tr>\n",
              "    <tr>\n",
              "      <th>1</th>\n",
              "      <td>15810944</td>\n",
              "      <td>Male</td>\n",
              "      <td>35</td>\n",
              "      <td>20000</td>\n",
              "      <td>0</td>\n",
              "    </tr>\n",
              "    <tr>\n",
              "      <th>2</th>\n",
              "      <td>15668575</td>\n",
              "      <td>Female</td>\n",
              "      <td>26</td>\n",
              "      <td>43000</td>\n",
              "      <td>0</td>\n",
              "    </tr>\n",
              "    <tr>\n",
              "      <th>3</th>\n",
              "      <td>15603246</td>\n",
              "      <td>Female</td>\n",
              "      <td>27</td>\n",
              "      <td>57000</td>\n",
              "      <td>0</td>\n",
              "    </tr>\n",
              "    <tr>\n",
              "      <th>4</th>\n",
              "      <td>15804002</td>\n",
              "      <td>Male</td>\n",
              "      <td>19</td>\n",
              "      <td>76000</td>\n",
              "      <td>0</td>\n",
              "    </tr>\n",
              "  </tbody>\n",
              "</table>\n",
              "</div>"
            ],
            "text/plain": [
              "    User ID  Gender  Age  EstimatedSalary  Purchased\n",
              "0  15624510    Male   19            19000          0\n",
              "1  15810944    Male   35            20000          0\n",
              "2  15668575  Female   26            43000          0\n",
              "3  15603246  Female   27            57000          0\n",
              "4  15804002    Male   19            76000          0"
            ]
          },
          "metadata": {
            "tags": []
          },
          "execution_count": 18
        }
      ]
    },
    {
      "cell_type": "code",
      "metadata": {
        "id": "oW9bjjTLe2i5"
      },
      "source": [
        "x = df[[\"Age\",\"EstimatedSalary\"]]\n",
        "y = df[\"Purchased\"]"
      ],
      "execution_count": 19,
      "outputs": []
    },
    {
      "cell_type": "code",
      "metadata": {
        "id": "P9rzVsWOfOx1"
      },
      "source": [
        "x_train,x_test,y_train,y_test = train_test_split(x,y,test_size=0.2)"
      ],
      "execution_count": 20,
      "outputs": []
    },
    {
      "cell_type": "code",
      "metadata": {
        "id": "zC8lYY-pfWjD",
        "outputId": "954d450f-8bdc-47f5-a161-dcaa838c7e83",
        "colab": {
          "base_uri": "https://localhost:8080/"
        }
      },
      "source": [
        "model =tree.DecisionTreeClassifier()\n",
        "model.fit(x_train,y_train)"
      ],
      "execution_count": 21,
      "outputs": [
        {
          "output_type": "execute_result",
          "data": {
            "text/plain": [
              "DecisionTreeClassifier(ccp_alpha=0.0, class_weight=None, criterion='gini',\n",
              "                       max_depth=None, max_features=None, max_leaf_nodes=None,\n",
              "                       min_impurity_decrease=0.0, min_impurity_split=None,\n",
              "                       min_samples_leaf=1, min_samples_split=2,\n",
              "                       min_weight_fraction_leaf=0.0, presort='deprecated',\n",
              "                       random_state=None, splitter='best')"
            ]
          },
          "metadata": {
            "tags": []
          },
          "execution_count": 21
        }
      ]
    },
    {
      "cell_type": "code",
      "metadata": {
        "id": "45lxxPWVftwA"
      },
      "source": [
        "y_pred = model.predict(x_test)"
      ],
      "execution_count": 24,
      "outputs": []
    },
    {
      "cell_type": "code",
      "metadata": {
        "id": "Wf_EyKtcf43X",
        "outputId": "be19991c-6f39-48c2-cb67-98578e8739b2",
        "colab": {
          "base_uri": "https://localhost:8080/",
          "height": 419
        }
      },
      "source": [
        "df1 = pd.DataFrame({\"Actual\":y_test,\"Predicted\":y_pred})\n",
        "df1"
      ],
      "execution_count": 25,
      "outputs": [
        {
          "output_type": "execute_result",
          "data": {
            "text/html": [
              "<div>\n",
              "<style scoped>\n",
              "    .dataframe tbody tr th:only-of-type {\n",
              "        vertical-align: middle;\n",
              "    }\n",
              "\n",
              "    .dataframe tbody tr th {\n",
              "        vertical-align: top;\n",
              "    }\n",
              "\n",
              "    .dataframe thead th {\n",
              "        text-align: right;\n",
              "    }\n",
              "</style>\n",
              "<table border=\"1\" class=\"dataframe\">\n",
              "  <thead>\n",
              "    <tr style=\"text-align: right;\">\n",
              "      <th></th>\n",
              "      <th>Actual</th>\n",
              "      <th>Predicted</th>\n",
              "    </tr>\n",
              "  </thead>\n",
              "  <tbody>\n",
              "    <tr>\n",
              "      <th>369</th>\n",
              "      <td>1</td>\n",
              "      <td>1</td>\n",
              "    </tr>\n",
              "    <tr>\n",
              "      <th>5</th>\n",
              "      <td>0</td>\n",
              "      <td>0</td>\n",
              "    </tr>\n",
              "    <tr>\n",
              "      <th>315</th>\n",
              "      <td>1</td>\n",
              "      <td>0</td>\n",
              "    </tr>\n",
              "    <tr>\n",
              "      <th>109</th>\n",
              "      <td>0</td>\n",
              "      <td>0</td>\n",
              "    </tr>\n",
              "    <tr>\n",
              "      <th>86</th>\n",
              "      <td>0</td>\n",
              "      <td>0</td>\n",
              "    </tr>\n",
              "    <tr>\n",
              "      <th>...</th>\n",
              "      <td>...</td>\n",
              "      <td>...</td>\n",
              "    </tr>\n",
              "    <tr>\n",
              "      <th>1</th>\n",
              "      <td>0</td>\n",
              "      <td>0</td>\n",
              "    </tr>\n",
              "    <tr>\n",
              "      <th>387</th>\n",
              "      <td>0</td>\n",
              "      <td>0</td>\n",
              "    </tr>\n",
              "    <tr>\n",
              "      <th>175</th>\n",
              "      <td>0</td>\n",
              "      <td>0</td>\n",
              "    </tr>\n",
              "    <tr>\n",
              "      <th>120</th>\n",
              "      <td>0</td>\n",
              "      <td>0</td>\n",
              "    </tr>\n",
              "    <tr>\n",
              "      <th>305</th>\n",
              "      <td>0</td>\n",
              "      <td>0</td>\n",
              "    </tr>\n",
              "  </tbody>\n",
              "</table>\n",
              "<p>80 rows × 2 columns</p>\n",
              "</div>"
            ],
            "text/plain": [
              "     Actual  Predicted\n",
              "369       1          1\n",
              "5         0          0\n",
              "315       1          0\n",
              "109       0          0\n",
              "86        0          0\n",
              "..      ...        ...\n",
              "1         0          0\n",
              "387       0          0\n",
              "175       0          0\n",
              "120       0          0\n",
              "305       0          0\n",
              "\n",
              "[80 rows x 2 columns]"
            ]
          },
          "metadata": {
            "tags": []
          },
          "execution_count": 25
        }
      ]
    },
    {
      "cell_type": "code",
      "metadata": {
        "id": "njXrHIZHgi9G",
        "outputId": "6027cbe8-d4cf-47b3-a976-557d9e52afb0",
        "colab": {
          "base_uri": "https://localhost:8080/"
        }
      },
      "source": [
        "print(metrics.accuracy_score(y_test,y_pred)*100)"
      ],
      "execution_count": 26,
      "outputs": [
        {
          "output_type": "stream",
          "text": [
            "85.0\n"
          ],
          "name": "stdout"
        }
      ]
    },
    {
      "cell_type": "code",
      "metadata": {
        "id": "TzZoOiKeg8rf",
        "outputId": "8d136c2d-8b13-4fa6-d6de-87a0e519e5e6",
        "colab": {
          "base_uri": "https://localhost:8080/",
          "height": 1000
        }
      },
      "source": [
        "tree.plot_tree(model.fit(x,y))"
      ],
      "execution_count": 27,
      "outputs": [
        {
          "output_type": "execute_result",
          "data": {
            "text/plain": [
              "[Text(140.46875, 210.192, 'X[0] <= 42.5\\ngini = 0.459\\nsamples = 400\\nvalue = [257, 143]'),\n",
              " Text(74.78750000000001, 195.696, 'X[1] <= 90500.0\\ngini = 0.271\\nsamples = 285\\nvalue = [239, 46]'),\n",
              " Text(37.975, 181.2, 'X[0] <= 36.5\\ngini = 0.072\\nsamples = 241\\nvalue = [232, 9]'),\n",
              " Text(31.775000000000002, 166.704, 'gini = 0.0\\nsamples = 162\\nvalue = [162, 0]'),\n",
              " Text(44.175000000000004, 166.704, 'X[1] <= 83500.0\\ngini = 0.202\\nsamples = 79\\nvalue = [70, 9]'),\n",
              " Text(37.975, 152.208, 'X[1] <= 67500.0\\ngini = 0.165\\nsamples = 77\\nvalue = [70, 7]'),\n",
              " Text(31.775000000000002, 137.712, 'gini = 0.0\\nsamples = 40\\nvalue = [40, 0]'),\n",
              " Text(44.175000000000004, 137.712, 'X[1] <= 70500.0\\ngini = 0.307\\nsamples = 37\\nvalue = [30, 7]'),\n",
              " Text(27.900000000000002, 123.216, 'X[0] <= 39.5\\ngini = 0.5\\nsamples = 2\\nvalue = [1, 1]'),\n",
              " Text(21.7, 108.72, 'gini = 0.0\\nsamples = 1\\nvalue = [0, 1]'),\n",
              " Text(34.1, 108.72, 'gini = 0.0\\nsamples = 1\\nvalue = [1, 0]'),\n",
              " Text(60.45, 123.216, 'X[0] <= 41.5\\ngini = 0.284\\nsamples = 35\\nvalue = [29, 6]'),\n",
              " Text(46.5, 108.72, 'X[0] <= 40.5\\ngini = 0.231\\nsamples = 30\\nvalue = [26, 4]'),\n",
              " Text(40.300000000000004, 94.22399999999999, 'X[1] <= 77500.0\\ngini = 0.287\\nsamples = 23\\nvalue = [19, 4]'),\n",
              " Text(18.6, 79.72799999999998, 'X[0] <= 38.5\\ngini = 0.219\\nsamples = 16\\nvalue = [14, 2]'),\n",
              " Text(12.4, 65.232, 'gini = 0.0\\nsamples = 7\\nvalue = [7, 0]'),\n",
              " Text(24.8, 65.232, 'X[1] <= 71500.0\\ngini = 0.346\\nsamples = 9\\nvalue = [7, 2]'),\n",
              " Text(12.4, 50.73599999999999, 'X[0] <= 39.5\\ngini = 0.444\\nsamples = 3\\nvalue = [2, 1]'),\n",
              " Text(6.2, 36.23999999999998, 'gini = 0.0\\nsamples = 2\\nvalue = [2, 0]'),\n",
              " Text(18.6, 36.23999999999998, 'gini = 0.0\\nsamples = 1\\nvalue = [0, 1]'),\n",
              " Text(37.2, 50.73599999999999, 'X[0] <= 39.5\\ngini = 0.278\\nsamples = 6\\nvalue = [5, 1]'),\n",
              " Text(31.0, 36.23999999999998, 'X[1] <= 74000.0\\ngini = 0.444\\nsamples = 3\\nvalue = [2, 1]'),\n",
              " Text(24.8, 21.744, 'gini = 0.0\\nsamples = 1\\nvalue = [1, 0]'),\n",
              " Text(37.2, 21.744, 'X[1] <= 76000.0\\ngini = 0.5\\nsamples = 2\\nvalue = [1, 1]'),\n",
              " Text(31.0, 7.2479999999999905, 'gini = 0.0\\nsamples = 1\\nvalue = [0, 1]'),\n",
              " Text(43.4, 7.2479999999999905, 'gini = 0.0\\nsamples = 1\\nvalue = [1, 0]'),\n",
              " Text(43.4, 36.23999999999998, 'gini = 0.0\\nsamples = 3\\nvalue = [3, 0]'),\n",
              " Text(62.0, 79.72799999999998, 'X[1] <= 79500.0\\ngini = 0.408\\nsamples = 7\\nvalue = [5, 2]'),\n",
              " Text(55.800000000000004, 65.232, 'X[0] <= 38.0\\ngini = 0.5\\nsamples = 4\\nvalue = [2, 2]'),\n",
              " Text(49.6, 50.73599999999999, 'gini = 0.0\\nsamples = 2\\nvalue = [0, 2]'),\n",
              " Text(62.0, 50.73599999999999, 'gini = 0.0\\nsamples = 2\\nvalue = [2, 0]'),\n",
              " Text(68.2, 65.232, 'gini = 0.0\\nsamples = 3\\nvalue = [3, 0]'),\n",
              " Text(52.7, 94.22399999999999, 'gini = 0.0\\nsamples = 7\\nvalue = [7, 0]'),\n",
              " Text(74.4, 108.72, 'X[1] <= 74000.0\\ngini = 0.48\\nsamples = 5\\nvalue = [3, 2]'),\n",
              " Text(68.2, 94.22399999999999, 'gini = 0.0\\nsamples = 1\\nvalue = [0, 1]'),\n",
              " Text(80.60000000000001, 94.22399999999999, 'X[1] <= 79500.0\\ngini = 0.375\\nsamples = 4\\nvalue = [3, 1]'),\n",
              " Text(74.4, 79.72799999999998, 'gini = 0.0\\nsamples = 2\\nvalue = [2, 0]'),\n",
              " Text(86.8, 79.72799999999998, 'gini = 0.5\\nsamples = 2\\nvalue = [1, 1]'),\n",
              " Text(50.375, 152.208, 'gini = 0.0\\nsamples = 2\\nvalue = [0, 2]'),\n",
              " Text(111.60000000000001, 181.2, 'X[1] <= 119000.0\\ngini = 0.268\\nsamples = 44\\nvalue = [7, 37]'),\n",
              " Text(105.4, 166.704, 'X[1] <= 107500.0\\ngini = 0.413\\nsamples = 24\\nvalue = [7, 17]'),\n",
              " Text(99.2, 152.208, 'gini = 0.0\\nsamples = 11\\nvalue = [0, 11]'),\n",
              " Text(111.60000000000001, 152.208, 'X[0] <= 30.5\\ngini = 0.497\\nsamples = 13\\nvalue = [7, 6]'),\n",
              " Text(105.4, 137.712, 'gini = 0.0\\nsamples = 2\\nvalue = [2, 0]'),\n",
              " Text(117.8, 137.712, 'X[1] <= 117500.0\\ngini = 0.496\\nsamples = 11\\nvalue = [5, 6]'),\n",
              " Text(111.60000000000001, 123.216, 'X[0] <= 40.0\\ngini = 0.494\\nsamples = 9\\nvalue = [5, 4]'),\n",
              " Text(105.4, 108.72, 'X[1] <= 110000.0\\ngini = 0.469\\nsamples = 8\\nvalue = [5, 3]'),\n",
              " Text(99.2, 94.22399999999999, 'gini = 0.0\\nsamples = 1\\nvalue = [1, 0]'),\n",
              " Text(111.60000000000001, 94.22399999999999, 'X[0] <= 33.5\\ngini = 0.49\\nsamples = 7\\nvalue = [4, 3]'),\n",
              " Text(99.2, 79.72799999999998, 'X[0] <= 32.5\\ngini = 0.444\\nsamples = 3\\nvalue = [2, 1]'),\n",
              " Text(93.0, 65.232, 'gini = 0.5\\nsamples = 2\\nvalue = [1, 1]'),\n",
              " Text(105.4, 65.232, 'gini = 0.0\\nsamples = 1\\nvalue = [1, 0]'),\n",
              " Text(124.0, 79.72799999999998, 'X[1] <= 114000.0\\ngini = 0.5\\nsamples = 4\\nvalue = [2, 2]'),\n",
              " Text(117.8, 65.232, 'X[1] <= 112500.0\\ngini = 0.444\\nsamples = 3\\nvalue = [1, 2]'),\n",
              " Text(111.60000000000001, 50.73599999999999, 'X[0] <= 36.0\\ngini = 0.5\\nsamples = 2\\nvalue = [1, 1]'),\n",
              " Text(105.4, 36.23999999999998, 'gini = 0.0\\nsamples = 1\\nvalue = [0, 1]'),\n",
              " Text(117.8, 36.23999999999998, 'gini = 0.0\\nsamples = 1\\nvalue = [1, 0]'),\n",
              " Text(124.0, 50.73599999999999, 'gini = 0.0\\nsamples = 1\\nvalue = [0, 1]'),\n",
              " Text(130.20000000000002, 65.232, 'gini = 0.0\\nsamples = 1\\nvalue = [1, 0]'),\n",
              " Text(117.8, 108.72, 'gini = 0.0\\nsamples = 1\\nvalue = [0, 1]'),\n",
              " Text(124.0, 123.216, 'gini = 0.0\\nsamples = 2\\nvalue = [0, 2]'),\n",
              " Text(117.8, 166.704, 'gini = 0.0\\nsamples = 20\\nvalue = [0, 20]'),\n",
              " Text(206.15, 195.696, 'X[0] <= 46.5\\ngini = 0.264\\nsamples = 115\\nvalue = [18, 97]'),\n",
              " Text(162.75, 181.2, 'X[1] <= 35500.0\\ngini = 0.444\\nsamples = 24\\nvalue = [8, 16]'),\n",
              " Text(142.6, 166.704, 'X[1] <= 22500.0\\ngini = 0.219\\nsamples = 8\\nvalue = [1, 7]'),\n",
              " Text(136.4, 152.208, 'X[0] <= 45.5\\ngini = 0.444\\nsamples = 3\\nvalue = [1, 2]'),\n",
              " Text(130.20000000000002, 137.712, 'gini = 0.0\\nsamples = 2\\nvalue = [0, 2]'),\n",
              " Text(142.6, 137.712, 'gini = 0.0\\nsamples = 1\\nvalue = [1, 0]'),\n",
              " Text(148.8, 152.208, 'gini = 0.0\\nsamples = 5\\nvalue = [0, 5]'),\n",
              " Text(182.9, 166.704, 'X[1] <= 104000.0\\ngini = 0.492\\nsamples = 16\\nvalue = [7, 9]'),\n",
              " Text(167.4, 152.208, 'X[1] <= 52000.0\\ngini = 0.48\\nsamples = 10\\nvalue = [6, 4]'),\n",
              " Text(155.0, 137.712, 'X[0] <= 44.5\\ngini = 0.444\\nsamples = 3\\nvalue = [1, 2]'),\n",
              " Text(148.8, 123.216, 'gini = 0.0\\nsamples = 1\\nvalue = [1, 0]'),\n",
              " Text(161.20000000000002, 123.216, 'gini = 0.0\\nsamples = 2\\nvalue = [0, 2]'),\n",
              " Text(179.8, 137.712, 'X[1] <= 76500.0\\ngini = 0.408\\nsamples = 7\\nvalue = [5, 2]'),\n",
              " Text(173.6, 123.216, 'gini = 0.0\\nsamples = 2\\nvalue = [2, 0]'),\n",
              " Text(186.0, 123.216, 'X[0] <= 45.5\\ngini = 0.48\\nsamples = 5\\nvalue = [3, 2]'),\n",
              " Text(179.8, 108.72, 'gini = 0.0\\nsamples = 1\\nvalue = [1, 0]'),\n",
              " Text(192.20000000000002, 108.72, 'X[1] <= 80500.0\\ngini = 0.5\\nsamples = 4\\nvalue = [2, 2]'),\n",
              " Text(186.0, 94.22399999999999, 'gini = 0.0\\nsamples = 1\\nvalue = [0, 1]'),\n",
              " Text(198.4, 94.22399999999999, 'X[1] <= 85000.0\\ngini = 0.444\\nsamples = 3\\nvalue = [2, 1]'),\n",
              " Text(192.20000000000002, 79.72799999999998, 'gini = 0.0\\nsamples = 1\\nvalue = [1, 0]'),\n",
              " Text(204.6, 79.72799999999998, 'X[1] <= 92000.0\\ngini = 0.5\\nsamples = 2\\nvalue = [1, 1]'),\n",
              " Text(198.4, 65.232, 'gini = 0.0\\nsamples = 1\\nvalue = [0, 1]'),\n",
              " Text(210.8, 65.232, 'gini = 0.0\\nsamples = 1\\nvalue = [1, 0]'),\n",
              " Text(198.4, 152.208, 'X[1] <= 132000.0\\ngini = 0.278\\nsamples = 6\\nvalue = [1, 5]'),\n",
              " Text(192.20000000000002, 137.712, 'gini = 0.0\\nsamples = 4\\nvalue = [0, 4]'),\n",
              " Text(204.6, 137.712, 'X[0] <= 43.5\\ngini = 0.5\\nsamples = 2\\nvalue = [1, 1]'),\n",
              " Text(198.4, 123.216, 'gini = 0.0\\nsamples = 1\\nvalue = [1, 0]'),\n",
              " Text(210.8, 123.216, 'gini = 0.0\\nsamples = 1\\nvalue = [0, 1]'),\n",
              " Text(249.55, 181.2, 'X[1] <= 41500.0\\ngini = 0.196\\nsamples = 91\\nvalue = [10, 81]'),\n",
              " Text(243.35, 166.704, 'gini = 0.0\\nsamples = 29\\nvalue = [0, 29]'),\n",
              " Text(255.75, 166.704, 'X[1] <= 48000.0\\ngini = 0.271\\nsamples = 62\\nvalue = [10, 52]'),\n",
              " Text(223.20000000000002, 152.208, 'X[0] <= 54.0\\ngini = 0.5\\nsamples = 8\\nvalue = [4, 4]'),\n",
              " Text(217.0, 137.712, 'gini = 0.0\\nsamples = 3\\nvalue = [3, 0]'),\n",
              " Text(229.4, 137.712, 'X[0] <= 59.5\\ngini = 0.32\\nsamples = 5\\nvalue = [1, 4]'),\n",
              " Text(223.20000000000002, 123.216, 'X[0] <= 58.5\\ngini = 0.5\\nsamples = 2\\nvalue = [1, 1]'),\n",
              " Text(217.0, 108.72, 'gini = 0.0\\nsamples = 1\\nvalue = [0, 1]'),\n",
              " Text(229.4, 108.72, 'gini = 0.0\\nsamples = 1\\nvalue = [1, 0]'),\n",
              " Text(235.6, 123.216, 'gini = 0.0\\nsamples = 3\\nvalue = [0, 3]'),\n",
              " Text(288.3, 152.208, 'X[0] <= 52.5\\ngini = 0.198\\nsamples = 54\\nvalue = [6, 48]'),\n",
              " Text(260.40000000000003, 137.712, 'X[0] <= 48.5\\ngini = 0.293\\nsamples = 28\\nvalue = [5, 23]'),\n",
              " Text(248.0, 123.216, 'X[1] <= 139500.0\\ngini = 0.124\\nsamples = 15\\nvalue = [1, 14]'),\n",
              " Text(241.8, 108.72, 'gini = 0.0\\nsamples = 13\\nvalue = [0, 13]'),\n",
              " Text(254.20000000000002, 108.72, 'X[1] <= 142500.0\\ngini = 0.5\\nsamples = 2\\nvalue = [1, 1]'),\n",
              " Text(248.0, 94.22399999999999, 'gini = 0.0\\nsamples = 1\\nvalue = [1, 0]'),\n",
              " Text(260.40000000000003, 94.22399999999999, 'gini = 0.0\\nsamples = 1\\nvalue = [0, 1]'),\n",
              " Text(272.8, 123.216, 'X[1] <= 80000.0\\ngini = 0.426\\nsamples = 13\\nvalue = [4, 9]'),\n",
              " Text(266.6, 108.72, 'gini = 0.0\\nsamples = 2\\nvalue = [2, 0]'),\n",
              " Text(279.0, 108.72, 'X[0] <= 50.5\\ngini = 0.298\\nsamples = 11\\nvalue = [2, 9]'),\n",
              " Text(272.8, 94.22399999999999, 'gini = 0.0\\nsamples = 5\\nvalue = [0, 5]'),\n",
              " Text(285.2, 94.22399999999999, 'X[1] <= 136000.0\\ngini = 0.444\\nsamples = 6\\nvalue = [2, 4]'),\n",
              " Text(279.0, 79.72799999999998, 'X[1] <= 102000.0\\ngini = 0.444\\nsamples = 3\\nvalue = [2, 1]'),\n",
              " Text(272.8, 65.232, 'gini = 0.0\\nsamples = 1\\nvalue = [0, 1]'),\n",
              " Text(285.2, 65.232, 'gini = 0.0\\nsamples = 2\\nvalue = [2, 0]'),\n",
              " Text(291.40000000000003, 79.72799999999998, 'gini = 0.0\\nsamples = 3\\nvalue = [0, 3]'),\n",
              " Text(316.2, 137.712, 'X[0] <= 58.5\\ngini = 0.074\\nsamples = 26\\nvalue = [1, 25]'),\n",
              " Text(310.0, 123.216, 'gini = 0.0\\nsamples = 18\\nvalue = [0, 18]'),\n",
              " Text(322.40000000000003, 123.216, 'X[1] <= 85500.0\\ngini = 0.219\\nsamples = 8\\nvalue = [1, 7]'),\n",
              " Text(316.2, 108.72, 'X[0] <= 59.5\\ngini = 0.444\\nsamples = 3\\nvalue = [1, 2]'),\n",
              " Text(310.0, 94.22399999999999, 'X[1] <= 79500.0\\ngini = 0.5\\nsamples = 2\\nvalue = [1, 1]'),\n",
              " Text(303.8, 79.72799999999998, 'gini = 0.0\\nsamples = 1\\nvalue = [0, 1]'),\n",
              " Text(316.2, 79.72799999999998, 'gini = 0.0\\nsamples = 1\\nvalue = [1, 0]'),\n",
              " Text(322.40000000000003, 94.22399999999999, 'gini = 0.0\\nsamples = 1\\nvalue = [0, 1]'),\n",
              " Text(328.6, 108.72, 'gini = 0.0\\nsamples = 5\\nvalue = [0, 5]')]"
            ]
          },
          "metadata": {
            "tags": []
          },
          "execution_count": 27
        },
        {
          "output_type": "display_data",
          "data": {
            "image/png": "[encoded data removed]",
            "text/plain": [
              "<Figure size 432x288 with 1 Axes>"
            ]
          },
          "metadata": {
            "tags": [],
            "needs_background": "light"
          }
        }
      ]
    }
  ]
}